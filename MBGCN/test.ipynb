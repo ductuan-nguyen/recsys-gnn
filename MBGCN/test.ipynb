{
 "cells": [
  {
   "cell_type": "code",
   "execution_count": 1,
   "id": "85fb0a5f",
   "metadata": {},
   "outputs": [
    {
     "name": "stderr",
     "output_type": "stream",
     "text": [
      "/tmp/ipykernel_1437323/3699684860.py:3: FutureWarning: You are using `torch.load` with `weights_only=False` (the current default value), which uses the default pickle module implicitly. It is possible to construct malicious pickle data which will execute arbitrary code during unpickling (See https://github.com/pytorch/pytorch/blob/main/SECURITY.md#untrusted-models for more details). In a future release, the default value for `weights_only` will be flipped to `True`. This limits the functions that could be executed during unpickling. Arbitrary objects will no longer be allowed to be loaded via this mode unless they are explicitly allowlisted by the user via `torch.serialization.add_safe_globals`. We recommend you start setting `weights_only=True` for any use case where you don't have full control of the loaded file. Please open an issue on GitHub for any issues related to this experimental feature.\n",
      "  relation = torch.load('/home/tuannd/MBGCN/Tmall/item_buy.pth')\n"
     ]
    },
    {
     "data": {
      "text/plain": [
       "tensor([[1, 1, 0,  ..., 0, 0, 0],\n",
       "        [1, 1, 0,  ..., 0, 0, 0],\n",
       "        [0, 0, 1,  ..., 0, 0, 0],\n",
       "        ...,\n",
       "        [0, 0, 0,  ..., 1, 0, 0],\n",
       "        [0, 0, 0,  ..., 0, 1, 0],\n",
       "        [0, 0, 0,  ..., 0, 0, 1]], dtype=torch.int32)"
      ]
     },
     "execution_count": 1,
     "metadata": {},
     "output_type": "execute_result"
    }
   ],
   "source": [
    "import torch \n",
    "\n",
    "relation = torch.load('/home/tuannd/MBGCN/Tmall/item_buy.pth')\n",
    "relation"
   ]
  },
  {
   "cell_type": "code",
   "execution_count": 2,
   "id": "ee37157d",
   "metadata": {},
   "outputs": [
    {
     "data": {
      "text/plain": [
       "torch.Size([11953, 11953])"
      ]
     },
     "execution_count": 2,
     "metadata": {},
     "output_type": "execute_result"
    }
   ],
   "source": [
    "relation.shape"
   ]
  },
  {
   "cell_type": "code",
   "execution_count": 5,
   "id": "986be7f0",
   "metadata": {},
   "outputs": [
    {
     "data": {
      "text/plain": [
       "tensor([[190.],\n",
       "        [ 78.],\n",
       "        [ 41.],\n",
       "        ...,\n",
       "        [ 42.],\n",
       "        [ 38.],\n",
       "        [ 28.]])"
      ]
     },
     "execution_count": 5,
     "metadata": {},
     "output_type": "execute_result"
    }
   ],
   "source": [
    "relation.sum(dim=1).float().unsqueeze(-1)"
   ]
  },
  {
   "cell_type": "code",
   "execution_count": 7,
   "id": "0c57ff48",
   "metadata": {},
   "outputs": [],
   "source": [
    "import torch  \n",
    "import numpy as np  \n",
    "from sklearn.metrics.pairwise import cosine_similarity  \n",
    "import scipy.sparse as sp  \n",
    "num_users = 41738\n",
    "num_items = 11953\n",
    "\n",
    "def create_item_similarity_matrix(behavior_file, num_items):  \n",
    "    # Load user-item interactions  \n",
    "    user_item_matrix = sp.lil_matrix((num_users, num_items))  \n",
    "      \n",
    "    with open(behavior_file, 'r') as f:  \n",
    "        for line in f:  \n",
    "            user, item = map(int, line.strip().split())  \n",
    "            user_item_matrix[user, item] = 1.0  \n",
    "      \n",
    "    # Compute item-item similarity (transpose to get item-user matrix)  \n",
    "    item_user_matrix = user_item_matrix.T.tocsr()  \n",
    "      \n",
    "    # Calculate cosine similarity between items  \n",
    "    similarity_matrix = cosine_similarity(item_user_matrix)  \n",
    "      \n",
    "    # Convert to PyTorch tensor  \n",
    "    similarity_tensor = torch.FloatTensor(similarity_matrix)  \n",
    "      \n",
    "    return similarity_tensor  \n",
    "  \n",
    "# Create similarity matrices for each behavior  \n",
    "# behaviors = ['buy', 'cart', 'click', 'collect']  \n",
    "behaviors = ['buy']\n",
    "for behavior in behaviors:  \n",
    "    similarity_matrix = create_item_similarity_matrix(f'Tmall/{behavior}.txt', num_items)  \n",
    "    torch.save(similarity_matrix, f'item_{behavior}.pth')"
   ]
  },
  {
   "cell_type": "code",
   "execution_count": 8,
   "id": "6f3e9d27",
   "metadata": {},
   "outputs": [
    {
     "name": "stderr",
     "output_type": "stream",
     "text": [
      "/tmp/ipykernel_1437323/1294529412.py:1: FutureWarning: You are using `torch.load` with `weights_only=False` (the current default value), which uses the default pickle module implicitly. It is possible to construct malicious pickle data which will execute arbitrary code during unpickling (See https://github.com/pytorch/pytorch/blob/main/SECURITY.md#untrusted-models for more details). In a future release, the default value for `weights_only` will be flipped to `True`. This limits the functions that could be executed during unpickling. Arbitrary objects will no longer be allowed to be loaded via this mode unless they are explicitly allowlisted by the user via `torch.serialization.add_safe_globals`. We recommend you start setting `weights_only=True` for any use case where you don't have full control of the loaded file. Please open an issue on GitHub for any issues related to this experimental feature.\n",
      "  relation_rebuild = torch.load('item_buy.pth')\n"
     ]
    },
    {
     "name": "stdout",
     "output_type": "stream",
     "text": [
      "torch.Size([11953, 11953])\n"
     ]
    },
    {
     "data": {
      "text/plain": [
       "tensor([[9.7598],\n",
       "        [4.5234],\n",
       "        [4.4019],\n",
       "        ...,\n",
       "        [4.4411],\n",
       "        [4.1706],\n",
       "        [3.4723]])"
      ]
     },
     "execution_count": 8,
     "metadata": {},
     "output_type": "execute_result"
    }
   ],
   "source": [
    "relation_rebuild = torch.load('item_buy.pth')\n",
    "print(relation_rebuild.shape)\n",
    "relation_rebuild.sum(dim=1).float().unsqueeze(-1)"
   ]
  },
  {
   "cell_type": "code",
   "execution_count": 11,
   "id": "fccc2065",
   "metadata": {},
   "outputs": [
    {
     "name": "stdout",
     "output_type": "stream",
     "text": [
      "tensor([[1., 1., 0.,  ..., 0., 0., 0.],\n",
      "        [1., 1., 0.,  ..., 0., 0., 0.],\n",
      "        [0., 0., 1.,  ..., 0., 0., 0.],\n",
      "        ...,\n",
      "        [0., 0., 0.,  ..., 1., 0., 0.],\n",
      "        [0., 0., 0.,  ..., 0., 1., 0.],\n",
      "        [0., 0., 0.,  ..., 0., 0., 1.]])\n"
     ]
    }
   ],
   "source": [
    "# convert all > 0 value to 1\n",
    "relation_rebuild = (relation_rebuild > 0).float()\n",
    "print(relation_rebuild)"
   ]
  },
  {
   "cell_type": "code",
   "execution_count": 12,
   "id": "8e4284f5",
   "metadata": {},
   "outputs": [
    {
     "data": {
      "text/plain": [
       "tensor([[190.],\n",
       "        [ 78.],\n",
       "        [ 41.],\n",
       "        ...,\n",
       "        [ 42.],\n",
       "        [ 38.],\n",
       "        [ 28.]])"
      ]
     },
     "execution_count": 12,
     "metadata": {},
     "output_type": "execute_result"
    }
   ],
   "source": [
    "relation_rebuild.sum(dim=1).float().unsqueeze(-1)"
   ]
  }
 ],
 "metadata": {
  "kernelspec": {
   "display_name": "gnn",
   "language": "python",
   "name": "python3"
  },
  "language_info": {
   "codemirror_mode": {
    "name": "ipython",
    "version": 3
   },
   "file_extension": ".py",
   "mimetype": "text/x-python",
   "name": "python",
   "nbconvert_exporter": "python",
   "pygments_lexer": "ipython3",
   "version": "3.11.11"
  }
 },
 "nbformat": 4,
 "nbformat_minor": 5
}
