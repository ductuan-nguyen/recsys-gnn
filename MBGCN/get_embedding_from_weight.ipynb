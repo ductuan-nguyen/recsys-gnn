{
 "cells": [
  {
   "cell_type": "markdown",
   "id": "f3879ef7",
   "metadata": {},
   "source": [
    "### Load user emb from training Matrix Factorization"
   ]
  },
  {
   "cell_type": "code",
   "execution_count": 2,
   "id": "665a706f",
   "metadata": {},
   "outputs": [],
   "source": [
    "import torch "
   ]
  },
  {
   "cell_type": "code",
   "execution_count": 5,
   "id": "5254349c",
   "metadata": {},
   "outputs": [
    {
     "name": "stderr",
     "output_type": "stream",
     "text": [
      "/tmp/ipykernel_1295889/1390187222.py:2: FutureWarning: You are using `torch.load` with `weights_only=False` (the current default value), which uses the default pickle module implicitly. It is possible to construct malicious pickle data which will execute arbitrary code during unpickling (See https://github.com/pytorch/pytorch/blob/main/SECURITY.md#untrusted-models for more details). In a future release, the default value for `weights_only` will be flipped to `True`. This limits the functions that could be executed during unpickling. Arbitrary objects will no longer be allowed to be loaded via this mode unless they are explicitly allowlisted by the user via `torch.serialization.add_safe_globals`. We recommend you start setting `weights_only=True` for any use case where you don't have full control of the loaded file. Please open an issue on GitHub for any issues related to this experimental feature.\n",
      "  load_data = torch.load(mf_emb_path, map_location='cpu')\n"
     ]
    },
    {
     "data": {
      "text/plain": [
       "odict_keys(['item_embedding', 'user_embedding'])"
      ]
     },
     "execution_count": 5,
     "metadata": {},
     "output_type": "execute_result"
    }
   ],
   "source": [
    "mf_emb_path = '/home/tuannd/MBGCN/output/mf/ubc/ubc-MF_lr1e-2-L1e-6-size32@tuannd/model_epoch_19.pkl'\n",
    "load_data = torch.load(mf_emb_path, map_location='cpu')\n",
    "load_data.keys()"
   ]
  },
  {
   "cell_type": "code",
   "execution_count": 12,
   "id": "ebdeda62",
   "metadata": {},
   "outputs": [
    {
     "data": {
      "text/plain": [
       "(tensor(-2.8228), tensor(2.7863), torch.Size([858489, 32]))"
      ]
     },
     "execution_count": 12,
     "metadata": {},
     "output_type": "execute_result"
    }
   ],
   "source": [
    "user_embedding = load_data['user_embedding']\n",
    "user_embedding.min(), user_embedding.max(), user_embedding.shape"
   ]
  },
  {
   "cell_type": "code",
   "execution_count": 13,
   "id": "639e50f4",
   "metadata": {},
   "outputs": [
    {
     "name": "stderr",
     "output_type": "stream",
     "text": [
      "/tmp/ipykernel_1295889/2860984701.py:1: FutureWarning: You are using `torch.load` with `weights_only=False` (the current default value), which uses the default pickle module implicitly. It is possible to construct malicious pickle data which will execute arbitrary code during unpickling (See https://github.com/pytorch/pytorch/blob/main/SECURITY.md#untrusted-models for more details). In a future release, the default value for `weights_only` will be flipped to `True`. This limits the functions that could be executed during unpickling. Arbitrary objects will no longer be allowed to be loaded via this mode unless they are explicitly allowlisted by the user via `torch.serialization.add_safe_globals`. We recommend you start setting `weights_only=True` for any use case where you don't have full control of the loaded file. Please open an issue on GitHub for any issues related to this experimental feature.\n",
      "  mbgcn = torch.load('/home/tuannd/MBGCN/output/ubc/ubc-MBGCN_lr3e-4-L1e-4-size32-lamb1-md0.1-nd0.1@2rel-mf32-freeze-emb/model_epoch_9.pkl', map_location='cpu')\n"
     ]
    },
    {
     "data": {
      "text/plain": [
       "odict_keys(['item_embedding', 'user_embedding', 'mgnn_weight', 'W', 'item_behaviour_W.0', 'item_behaviour_W.1', 'item_propagate_W.0', 'item_propagate_W.1'])"
      ]
     },
     "execution_count": 13,
     "metadata": {},
     "output_type": "execute_result"
    }
   ],
   "source": [
    "mbgcn = torch.load('/home/tuannd/MBGCN/output/ubc/ubc-MBGCN_lr3e-4-L1e-4-size32-lamb1-md0.1-nd0.1@2rel-mf32-freeze-emb/model_epoch_9.pkl', map_location='cpu')\n",
    "\n",
    "mbgcn.keys()"
   ]
  },
  {
   "cell_type": "code",
   "execution_count": 14,
   "id": "f2163fd1",
   "metadata": {},
   "outputs": [
    {
     "data": {
      "text/plain": [
       "(tensor(-2.8228), tensor(2.7863), torch.Size([858489, 32]))"
      ]
     },
     "execution_count": 14,
     "metadata": {},
     "output_type": "execute_result"
    }
   ],
   "source": [
    "mbgcn['user_embedding'].min(), mbgcn['user_embedding'].max(), mbgcn['user_embedding'].shape"
   ]
  },
  {
   "cell_type": "code",
   "execution_count": 7,
   "id": "aee0ed27",
   "metadata": {},
   "outputs": [
    {
     "data": {
      "text/plain": [
       "tensor([[ 0.1145,  0.1340, -0.7324,  ...,  0.5143,  0.5286, -0.0831],\n",
       "        [ 0.2990,  0.2975, -0.2586,  ...,  0.2253,  0.3055,  0.2216],\n",
       "        [ 0.0643, -0.1861, -0.2610,  ...,  0.1958,  0.1064,  0.2390],\n",
       "        ...,\n",
       "        [-0.2750, -0.0771,  0.1153,  ..., -0.2201, -0.0521, -0.2337],\n",
       "        [ 0.3975,  0.4364,  0.0047,  ..., -0.0816,  0.0283,  0.0030],\n",
       "        [-0.0959,  0.0936,  0.2734,  ..., -0.3265, -0.1252,  0.0124]])"
      ]
     },
     "execution_count": 7,
     "metadata": {},
     "output_type": "execute_result"
    }
   ],
   "source": [
    "mbgcn['user_embedding'] - user_embedding    "
   ]
  },
  {
   "cell_type": "code",
   "execution_count": null,
   "id": "d1a4ed09",
   "metadata": {},
   "outputs": [],
   "source": [
    "mbgcn"
   ]
  },
  {
   "cell_type": "code",
   "execution_count": 16,
   "id": "77df35db",
   "metadata": {},
   "outputs": [
    {
     "data": {
      "text/plain": [
       "((858489, 32), -1.583, 1.579)"
      ]
     },
     "execution_count": 16,
     "metadata": {},
     "output_type": "execute_result"
    }
   ],
   "source": [
    "import numpy as np\n",
    "model_out_emb = np.load('/home/tuannd/MBGCN/submits/2-rel-mf32-freeze-emb/embeddings.npy')\n",
    "model_out_emb.shape, model_out_emb.min(), model_out_emb.max()"
   ]
  },
  {
   "cell_type": "code",
   "execution_count": 5,
   "id": "fcf8093a",
   "metadata": {},
   "outputs": [
    {
     "data": {
      "text/plain": [
       "CompletedProcess(args=['cp', 'submits/client_ids.npy', 'submits/exp_mf32/client_ids.npy'], returncode=0)"
      ]
     },
     "execution_count": 5,
     "metadata": {},
     "output_type": "execute_result"
    }
   ],
   "source": [
    "import os, subprocess\n",
    "\n",
    "os.makedirs('submits/exp_mf32', exist_ok=True)\n",
    "subprocess.run(['cp', 'submits/client_ids.npy', 'submits/exp_mf32/client_ids.npy'])"
   ]
  },
  {
   "cell_type": "code",
   "execution_count": null,
   "id": "e78e6173",
   "metadata": {},
   "outputs": [],
   "source": [
    "import numpy as np\n",
    "user_embedding = user_embedding.numpy().astype(np.float16)\n",
    "np.save('submits/exp_mf32/embeddings.npy', user_embedding)"
   ]
  }
 ],
 "metadata": {
  "kernelspec": {
   "display_name": "gnn",
   "language": "python",
   "name": "python3"
  },
  "language_info": {
   "codemirror_mode": {
    "name": "ipython",
    "version": 3
   },
   "file_extension": ".py",
   "mimetype": "text/x-python",
   "name": "python",
   "nbconvert_exporter": "python",
   "pygments_lexer": "ipython3",
   "version": "3.11.11"
  }
 },
 "nbformat": 4,
 "nbformat_minor": 5
}
